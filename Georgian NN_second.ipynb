{
 "cells": [
  {
   "cell_type": "code",
   "execution_count": 30,
   "id": "9b5912f3",
   "metadata": {},
   "outputs": [],
   "source": [
    "import torch\n",
    "import torch.nn as nn\n",
    "from torch.nn import functional as F\n",
    "import torch.optim as optim\n",
    "from torch.utils.data import DataLoader, Dataset\n",
    "from sklearn.model_selection import train_test_split\n",
    "from sklearn.preprocessing import OneHotEncoder\n",
    "import matplotlib.pyplot as plt\n",
    "import pandas as pd\n"
   ]
  },
  {
   "cell_type": "code",
   "execution_count": 2,
   "id": "8177a9e5",
   "metadata": {},
   "outputs": [
    {
     "data": {
      "text/plain": [
       "'2.5.1'"
      ]
     },
     "execution_count": 2,
     "metadata": {},
     "output_type": "execute_result"
    }
   ],
   "source": [
    "# Check PyTorch version\n",
    "torch.__version__"
   ]
  },
  {
   "cell_type": "code",
   "execution_count": 3,
   "id": "07eea203",
   "metadata": {},
   "outputs": [
    {
     "data": {
      "text/plain": [
       "True"
      ]
     },
     "execution_count": 3,
     "metadata": {},
     "output_type": "execute_result"
    }
   ],
   "source": [
    "# check if GPU is available\n",
    "torch.cuda.is_available()"
   ]
  },
  {
   "cell_type": "code",
   "execution_count": 24,
   "id": "a3aa30d8",
   "metadata": {},
   "outputs": [],
   "source": [
    "# load the dataset\n",
    "um_X = pd.read_csv(r'C:\\Users\\Home\\Desktop\\Python Scripts\\kat-master\\um_features.csv')\n",
    "um_y = pd.read_csv(r'C:\\Users\\Home\\Desktop\\Python Scripts\\kat-master\\um_target.csv')"
   ]
  },
  {
   "cell_type": "code",
   "execution_count": 25,
   "id": "954536bf",
   "metadata": {},
   "outputs": [],
   "source": [
    "# Split the 'tag' column into 4 separate columns\n",
    "um_X[['POS', 'ARG', 'Mood', 'Tense']] = um_X['tag'].str.split(';', n=3, expand=True)\n",
    "um_X.drop(columns=['tag'], inplace=True)"
   ]
  },
  {
   "cell_type": "code",
   "execution_count": 26,
   "id": "dac4bc88",
   "metadata": {},
   "outputs": [
    {
     "data": {
      "application/vnd.microsoft.datawrangler.viewer.v0+json": {
       "columns": [
        {
         "name": "index",
         "rawType": "int64",
         "type": "integer"
        },
        {
         "name": "lemma",
         "rawType": "object",
         "type": "string"
        },
        {
         "name": "POS",
         "rawType": "object",
         "type": "string"
        },
        {
         "name": "ARG",
         "rawType": "object",
         "type": "string"
        },
        {
         "name": "Mood",
         "rawType": "object",
         "type": "string"
        },
        {
         "name": "Tense",
         "rawType": "object",
         "type": "string"
        }
       ],
       "conversionMethod": "pd.DataFrame",
       "ref": "c6ca4ce9-79b0-4795-98a8-66063c37c737",
       "rows": [
        [
         "0",
         "შეუძლია",
         "V",
         "ARGNO1S",
         "IND",
         "PRS"
        ],
        [
         "1",
         "შეუძლია",
         "V",
         "ARGNO2S",
         "IND",
         "PRS"
        ],
        [
         "2",
         "შეუძლია",
         "V",
         "ARGNO3S",
         "IND",
         "PRS"
        ],
        [
         "3",
         "შეუძლია",
         "V",
         "ARGNO1P",
         "IND",
         "PRS"
        ],
        [
         "4",
         "შეუძლია",
         "V",
         "ARGNO2P",
         "IND",
         "PRS"
        ]
       ],
       "shape": {
        "columns": 5,
        "rows": 5
       }
      },
      "text/html": [
       "<div>\n",
       "<style scoped>\n",
       "    .dataframe tbody tr th:only-of-type {\n",
       "        vertical-align: middle;\n",
       "    }\n",
       "\n",
       "    .dataframe tbody tr th {\n",
       "        vertical-align: top;\n",
       "    }\n",
       "\n",
       "    .dataframe thead th {\n",
       "        text-align: right;\n",
       "    }\n",
       "</style>\n",
       "<table border=\"1\" class=\"dataframe\">\n",
       "  <thead>\n",
       "    <tr style=\"text-align: right;\">\n",
       "      <th></th>\n",
       "      <th>lemma</th>\n",
       "      <th>POS</th>\n",
       "      <th>ARG</th>\n",
       "      <th>Mood</th>\n",
       "      <th>Tense</th>\n",
       "    </tr>\n",
       "  </thead>\n",
       "  <tbody>\n",
       "    <tr>\n",
       "      <th>0</th>\n",
       "      <td>შეუძლია</td>\n",
       "      <td>V</td>\n",
       "      <td>ARGNO1S</td>\n",
       "      <td>IND</td>\n",
       "      <td>PRS</td>\n",
       "    </tr>\n",
       "    <tr>\n",
       "      <th>1</th>\n",
       "      <td>შეუძლია</td>\n",
       "      <td>V</td>\n",
       "      <td>ARGNO2S</td>\n",
       "      <td>IND</td>\n",
       "      <td>PRS</td>\n",
       "    </tr>\n",
       "    <tr>\n",
       "      <th>2</th>\n",
       "      <td>შეუძლია</td>\n",
       "      <td>V</td>\n",
       "      <td>ARGNO3S</td>\n",
       "      <td>IND</td>\n",
       "      <td>PRS</td>\n",
       "    </tr>\n",
       "    <tr>\n",
       "      <th>3</th>\n",
       "      <td>შეუძლია</td>\n",
       "      <td>V</td>\n",
       "      <td>ARGNO1P</td>\n",
       "      <td>IND</td>\n",
       "      <td>PRS</td>\n",
       "    </tr>\n",
       "    <tr>\n",
       "      <th>4</th>\n",
       "      <td>შეუძლია</td>\n",
       "      <td>V</td>\n",
       "      <td>ARGNO2P</td>\n",
       "      <td>IND</td>\n",
       "      <td>PRS</td>\n",
       "    </tr>\n",
       "  </tbody>\n",
       "</table>\n",
       "</div>"
      ],
      "text/plain": [
       "     lemma POS      ARG Mood Tense\n",
       "0  შეუძლია   V  ARGNO1S  IND   PRS\n",
       "1  შეუძლია   V  ARGNO2S  IND   PRS\n",
       "2  შეუძლია   V  ARGNO3S  IND   PRS\n",
       "3  შეუძლია   V  ARGNO1P  IND   PRS\n",
       "4  შეუძლია   V  ARGNO2P  IND   PRS"
      ]
     },
     "execution_count": 26,
     "metadata": {},
     "output_type": "execute_result"
    }
   ],
   "source": [
    "um_X.head()"
   ]
  },
  {
   "cell_type": "code",
   "execution_count": 29,
   "id": "f739d65c",
   "metadata": {},
   "outputs": [
    {
     "name": "stdout",
     "output_type": "stream",
     "text": [
      "unique values in POS: 1\n",
      "unique values in ARG: 7\n",
      "unique values in Mood: 13\n",
      "unique values in Tense: 18\n"
     ]
    }
   ],
   "source": [
    "# number of unique values for each column\n",
    "print('unique values in POS:', um_X.POS.nunique())\n",
    "print('unique values in ARG:', um_X.ARG.nunique())\n",
    "print('unique values in Mood:', um_X.Mood.nunique())\n",
    "print('unique values in Tense:', um_X.Tense.nunique())"
   ]
  },
  {
   "cell_type": "code",
   "execution_count": 41,
   "id": "6405e3cd",
   "metadata": {},
   "outputs": [],
   "source": [
    "encoder = OneHotEncoder(sparse_output=False)\n",
    "X = encoder.fit_transform(um_X[[\"ARG\", \"Mood\", \"Tense\"]])\n",
    "\n",
    "X_df = pd.DataFrame(X, columns=encoder.get_feature_names_out([\"ARG\", \"Mood\", \"Tense\"]))"
   ]
  },
  {
   "cell_type": "code",
   "execution_count": 42,
   "id": "0296b7c4",
   "metadata": {},
   "outputs": [
    {
     "data": {
      "application/vnd.microsoft.datawrangler.viewer.v0+json": {
       "columns": [
        {
         "name": "index",
         "rawType": "int64",
         "type": "integer"
        },
        {
         "name": "ARG_ARGNO1P",
         "rawType": "float64",
         "type": "float"
        },
        {
         "name": "ARG_ARGNO1S",
         "rawType": "float64",
         "type": "float"
        },
        {
         "name": "ARG_ARGNO2P",
         "rawType": "float64",
         "type": "float"
        },
        {
         "name": "ARG_ARGNO2S",
         "rawType": "float64",
         "type": "float"
        },
        {
         "name": "ARG_ARGNO3P",
         "rawType": "float64",
         "type": "float"
        },
        {
         "name": "ARG_ARGNO3S",
         "rawType": "float64",
         "type": "float"
        },
        {
         "name": "ARG_V.MSDR",
         "rawType": "float64",
         "type": "float"
        },
        {
         "name": "Mood_ARGAC1P",
         "rawType": "float64",
         "type": "float"
        },
        {
         "name": "Mood_ARGAC1S",
         "rawType": "float64",
         "type": "float"
        },
        {
         "name": "Mood_ARGAC2P",
         "rawType": "float64",
         "type": "float"
        },
        {
         "name": "Mood_ARGAC2S",
         "rawType": "float64",
         "type": "float"
        },
        {
         "name": "Mood_ARGAC3P",
         "rawType": "float64",
         "type": "float"
        },
        {
         "name": "Mood_ARGAC3S",
         "rawType": "float64",
         "type": "float"
        },
        {
         "name": "Mood_COND",
         "rawType": "float64",
         "type": "float"
        },
        {
         "name": "Mood_IMP",
         "rawType": "float64",
         "type": "float"
        },
        {
         "name": "Mood_IND",
         "rawType": "float64",
         "type": "float"
        },
        {
         "name": "Mood_IPFV",
         "rawType": "float64",
         "type": "float"
        },
        {
         "name": "Mood_OPT",
         "rawType": "float64",
         "type": "float"
        },
        {
         "name": "Mood_PRF",
         "rawType": "float64",
         "type": "float"
        },
        {
         "name": "Mood_SBJV",
         "rawType": "float64",
         "type": "float"
        },
        {
         "name": "Tense_COND",
         "rawType": "float64",
         "type": "float"
        },
        {
         "name": "Tense_FUT",
         "rawType": "float64",
         "type": "float"
        },
        {
         "name": "Tense_IMP",
         "rawType": "float64",
         "type": "float"
        },
        {
         "name": "Tense_IND;FUT",
         "rawType": "float64",
         "type": "float"
        },
        {
         "name": "Tense_IND;IPFV",
         "rawType": "float64",
         "type": "float"
        },
        {
         "name": "Tense_IND;PRF",
         "rawType": "float64",
         "type": "float"
        },
        {
         "name": "Tense_IND;PRS",
         "rawType": "float64",
         "type": "float"
        },
        {
         "name": "Tense_IND;PST;PFV",
         "rawType": "float64",
         "type": "float"
        },
        {
         "name": "Tense_IND;PST;PRF",
         "rawType": "float64",
         "type": "float"
        },
        {
         "name": "Tense_IPFV",
         "rawType": "float64",
         "type": "float"
        },
        {
         "name": "Tense_OPT",
         "rawType": "float64",
         "type": "float"
        },
        {
         "name": "Tense_PRF",
         "rawType": "float64",
         "type": "float"
        },
        {
         "name": "Tense_PRS",
         "rawType": "float64",
         "type": "float"
        },
        {
         "name": "Tense_PST;PFV",
         "rawType": "float64",
         "type": "float"
        },
        {
         "name": "Tense_PST;PRF",
         "rawType": "float64",
         "type": "float"
        },
        {
         "name": "Tense_SBJV;FUT",
         "rawType": "float64",
         "type": "float"
        },
        {
         "name": "Tense_SBJV;PRF",
         "rawType": "float64",
         "type": "float"
        },
        {
         "name": "Tense_SBJV;PRS",
         "rawType": "float64",
         "type": "float"
        },
        {
         "name": "Tense_None",
         "rawType": "float64",
         "type": "float"
        }
       ],
       "conversionMethod": "pd.DataFrame",
       "ref": "195272da-528c-43a6-ac21-96793d8c278b",
       "rows": [
        [
         "0",
         "0.0",
         "1.0",
         "0.0",
         "0.0",
         "0.0",
         "0.0",
         "0.0",
         "0.0",
         "0.0",
         "0.0",
         "0.0",
         "0.0",
         "0.0",
         "0.0",
         "0.0",
         "1.0",
         "0.0",
         "0.0",
         "0.0",
         "0.0",
         "0.0",
         "0.0",
         "0.0",
         "0.0",
         "0.0",
         "0.0",
         "0.0",
         "0.0",
         "0.0",
         "0.0",
         "0.0",
         "0.0",
         "1.0",
         "0.0",
         "0.0",
         "0.0",
         "0.0",
         "0.0",
         "0.0"
        ],
        [
         "1",
         "0.0",
         "0.0",
         "0.0",
         "1.0",
         "0.0",
         "0.0",
         "0.0",
         "0.0",
         "0.0",
         "0.0",
         "0.0",
         "0.0",
         "0.0",
         "0.0",
         "0.0",
         "1.0",
         "0.0",
         "0.0",
         "0.0",
         "0.0",
         "0.0",
         "0.0",
         "0.0",
         "0.0",
         "0.0",
         "0.0",
         "0.0",
         "0.0",
         "0.0",
         "0.0",
         "0.0",
         "0.0",
         "1.0",
         "0.0",
         "0.0",
         "0.0",
         "0.0",
         "0.0",
         "0.0"
        ],
        [
         "2",
         "0.0",
         "0.0",
         "0.0",
         "0.0",
         "0.0",
         "1.0",
         "0.0",
         "0.0",
         "0.0",
         "0.0",
         "0.0",
         "0.0",
         "0.0",
         "0.0",
         "0.0",
         "1.0",
         "0.0",
         "0.0",
         "0.0",
         "0.0",
         "0.0",
         "0.0",
         "0.0",
         "0.0",
         "0.0",
         "0.0",
         "0.0",
         "0.0",
         "0.0",
         "0.0",
         "0.0",
         "0.0",
         "1.0",
         "0.0",
         "0.0",
         "0.0",
         "0.0",
         "0.0",
         "0.0"
        ],
        [
         "3",
         "1.0",
         "0.0",
         "0.0",
         "0.0",
         "0.0",
         "0.0",
         "0.0",
         "0.0",
         "0.0",
         "0.0",
         "0.0",
         "0.0",
         "0.0",
         "0.0",
         "0.0",
         "1.0",
         "0.0",
         "0.0",
         "0.0",
         "0.0",
         "0.0",
         "0.0",
         "0.0",
         "0.0",
         "0.0",
         "0.0",
         "0.0",
         "0.0",
         "0.0",
         "0.0",
         "0.0",
         "0.0",
         "1.0",
         "0.0",
         "0.0",
         "0.0",
         "0.0",
         "0.0",
         "0.0"
        ],
        [
         "4",
         "0.0",
         "0.0",
         "1.0",
         "0.0",
         "0.0",
         "0.0",
         "0.0",
         "0.0",
         "0.0",
         "0.0",
         "0.0",
         "0.0",
         "0.0",
         "0.0",
         "0.0",
         "1.0",
         "0.0",
         "0.0",
         "0.0",
         "0.0",
         "0.0",
         "0.0",
         "0.0",
         "0.0",
         "0.0",
         "0.0",
         "0.0",
         "0.0",
         "0.0",
         "0.0",
         "0.0",
         "0.0",
         "1.0",
         "0.0",
         "0.0",
         "0.0",
         "0.0",
         "0.0",
         "0.0"
        ]
       ],
       "shape": {
        "columns": 39,
        "rows": 5
       }
      },
      "text/html": [
       "<div>\n",
       "<style scoped>\n",
       "    .dataframe tbody tr th:only-of-type {\n",
       "        vertical-align: middle;\n",
       "    }\n",
       "\n",
       "    .dataframe tbody tr th {\n",
       "        vertical-align: top;\n",
       "    }\n",
       "\n",
       "    .dataframe thead th {\n",
       "        text-align: right;\n",
       "    }\n",
       "</style>\n",
       "<table border=\"1\" class=\"dataframe\">\n",
       "  <thead>\n",
       "    <tr style=\"text-align: right;\">\n",
       "      <th></th>\n",
       "      <th>ARG_ARGNO1P</th>\n",
       "      <th>ARG_ARGNO1S</th>\n",
       "      <th>ARG_ARGNO2P</th>\n",
       "      <th>ARG_ARGNO2S</th>\n",
       "      <th>ARG_ARGNO3P</th>\n",
       "      <th>ARG_ARGNO3S</th>\n",
       "      <th>ARG_V.MSDR</th>\n",
       "      <th>Mood_ARGAC1P</th>\n",
       "      <th>Mood_ARGAC1S</th>\n",
       "      <th>Mood_ARGAC2P</th>\n",
       "      <th>...</th>\n",
       "      <th>Tense_IPFV</th>\n",
       "      <th>Tense_OPT</th>\n",
       "      <th>Tense_PRF</th>\n",
       "      <th>Tense_PRS</th>\n",
       "      <th>Tense_PST;PFV</th>\n",
       "      <th>Tense_PST;PRF</th>\n",
       "      <th>Tense_SBJV;FUT</th>\n",
       "      <th>Tense_SBJV;PRF</th>\n",
       "      <th>Tense_SBJV;PRS</th>\n",
       "      <th>Tense_None</th>\n",
       "    </tr>\n",
       "  </thead>\n",
       "  <tbody>\n",
       "    <tr>\n",
       "      <th>0</th>\n",
       "      <td>0.0</td>\n",
       "      <td>1.0</td>\n",
       "      <td>0.0</td>\n",
       "      <td>0.0</td>\n",
       "      <td>0.0</td>\n",
       "      <td>0.0</td>\n",
       "      <td>0.0</td>\n",
       "      <td>0.0</td>\n",
       "      <td>0.0</td>\n",
       "      <td>0.0</td>\n",
       "      <td>...</td>\n",
       "      <td>0.0</td>\n",
       "      <td>0.0</td>\n",
       "      <td>0.0</td>\n",
       "      <td>1.0</td>\n",
       "      <td>0.0</td>\n",
       "      <td>0.0</td>\n",
       "      <td>0.0</td>\n",
       "      <td>0.0</td>\n",
       "      <td>0.0</td>\n",
       "      <td>0.0</td>\n",
       "    </tr>\n",
       "    <tr>\n",
       "      <th>1</th>\n",
       "      <td>0.0</td>\n",
       "      <td>0.0</td>\n",
       "      <td>0.0</td>\n",
       "      <td>1.0</td>\n",
       "      <td>0.0</td>\n",
       "      <td>0.0</td>\n",
       "      <td>0.0</td>\n",
       "      <td>0.0</td>\n",
       "      <td>0.0</td>\n",
       "      <td>0.0</td>\n",
       "      <td>...</td>\n",
       "      <td>0.0</td>\n",
       "      <td>0.0</td>\n",
       "      <td>0.0</td>\n",
       "      <td>1.0</td>\n",
       "      <td>0.0</td>\n",
       "      <td>0.0</td>\n",
       "      <td>0.0</td>\n",
       "      <td>0.0</td>\n",
       "      <td>0.0</td>\n",
       "      <td>0.0</td>\n",
       "    </tr>\n",
       "    <tr>\n",
       "      <th>2</th>\n",
       "      <td>0.0</td>\n",
       "      <td>0.0</td>\n",
       "      <td>0.0</td>\n",
       "      <td>0.0</td>\n",
       "      <td>0.0</td>\n",
       "      <td>1.0</td>\n",
       "      <td>0.0</td>\n",
       "      <td>0.0</td>\n",
       "      <td>0.0</td>\n",
       "      <td>0.0</td>\n",
       "      <td>...</td>\n",
       "      <td>0.0</td>\n",
       "      <td>0.0</td>\n",
       "      <td>0.0</td>\n",
       "      <td>1.0</td>\n",
       "      <td>0.0</td>\n",
       "      <td>0.0</td>\n",
       "      <td>0.0</td>\n",
       "      <td>0.0</td>\n",
       "      <td>0.0</td>\n",
       "      <td>0.0</td>\n",
       "    </tr>\n",
       "    <tr>\n",
       "      <th>3</th>\n",
       "      <td>1.0</td>\n",
       "      <td>0.0</td>\n",
       "      <td>0.0</td>\n",
       "      <td>0.0</td>\n",
       "      <td>0.0</td>\n",
       "      <td>0.0</td>\n",
       "      <td>0.0</td>\n",
       "      <td>0.0</td>\n",
       "      <td>0.0</td>\n",
       "      <td>0.0</td>\n",
       "      <td>...</td>\n",
       "      <td>0.0</td>\n",
       "      <td>0.0</td>\n",
       "      <td>0.0</td>\n",
       "      <td>1.0</td>\n",
       "      <td>0.0</td>\n",
       "      <td>0.0</td>\n",
       "      <td>0.0</td>\n",
       "      <td>0.0</td>\n",
       "      <td>0.0</td>\n",
       "      <td>0.0</td>\n",
       "    </tr>\n",
       "    <tr>\n",
       "      <th>4</th>\n",
       "      <td>0.0</td>\n",
       "      <td>0.0</td>\n",
       "      <td>1.0</td>\n",
       "      <td>0.0</td>\n",
       "      <td>0.0</td>\n",
       "      <td>0.0</td>\n",
       "      <td>0.0</td>\n",
       "      <td>0.0</td>\n",
       "      <td>0.0</td>\n",
       "      <td>0.0</td>\n",
       "      <td>...</td>\n",
       "      <td>0.0</td>\n",
       "      <td>0.0</td>\n",
       "      <td>0.0</td>\n",
       "      <td>1.0</td>\n",
       "      <td>0.0</td>\n",
       "      <td>0.0</td>\n",
       "      <td>0.0</td>\n",
       "      <td>0.0</td>\n",
       "      <td>0.0</td>\n",
       "      <td>0.0</td>\n",
       "    </tr>\n",
       "  </tbody>\n",
       "</table>\n",
       "<p>5 rows × 39 columns</p>\n",
       "</div>"
      ],
      "text/plain": [
       "   ARG_ARGNO1P  ARG_ARGNO1S  ARG_ARGNO2P  ARG_ARGNO2S  ARG_ARGNO3P  \\\n",
       "0          0.0          1.0          0.0          0.0          0.0   \n",
       "1          0.0          0.0          0.0          1.0          0.0   \n",
       "2          0.0          0.0          0.0          0.0          0.0   \n",
       "3          1.0          0.0          0.0          0.0          0.0   \n",
       "4          0.0          0.0          1.0          0.0          0.0   \n",
       "\n",
       "   ARG_ARGNO3S  ARG_V.MSDR  Mood_ARGAC1P  Mood_ARGAC1S  Mood_ARGAC2P  ...  \\\n",
       "0          0.0         0.0           0.0           0.0           0.0  ...   \n",
       "1          0.0         0.0           0.0           0.0           0.0  ...   \n",
       "2          1.0         0.0           0.0           0.0           0.0  ...   \n",
       "3          0.0         0.0           0.0           0.0           0.0  ...   \n",
       "4          0.0         0.0           0.0           0.0           0.0  ...   \n",
       "\n",
       "   Tense_IPFV  Tense_OPT  Tense_PRF  Tense_PRS  Tense_PST;PFV  Tense_PST;PRF  \\\n",
       "0         0.0        0.0        0.0        1.0            0.0            0.0   \n",
       "1         0.0        0.0        0.0        1.0            0.0            0.0   \n",
       "2         0.0        0.0        0.0        1.0            0.0            0.0   \n",
       "3         0.0        0.0        0.0        1.0            0.0            0.0   \n",
       "4         0.0        0.0        0.0        1.0            0.0            0.0   \n",
       "\n",
       "   Tense_SBJV;FUT  Tense_SBJV;PRF  Tense_SBJV;PRS  Tense_None  \n",
       "0             0.0             0.0             0.0         0.0  \n",
       "1             0.0             0.0             0.0         0.0  \n",
       "2             0.0             0.0             0.0         0.0  \n",
       "3             0.0             0.0             0.0         0.0  \n",
       "4             0.0             0.0             0.0         0.0  \n",
       "\n",
       "[5 rows x 39 columns]"
      ]
     },
     "execution_count": 42,
     "metadata": {},
     "output_type": "execute_result"
    }
   ],
   "source": [
    "X_df.head()"
   ]
  },
  {
   "cell_type": "code",
   "execution_count": 45,
   "id": "54b31eeb",
   "metadata": {},
   "outputs": [
    {
     "ename": "FileNotFoundError",
     "evalue": "[Errno 2] No such file or directory: 'C:\\\\Users\\\\Home\\\\Desktop\\\\Python Scripts\\\\kat-master\\\\char2vec.bin'",
     "output_type": "error",
     "traceback": [
      "\u001b[31m---------------------------------------------------------------------------\u001b[39m",
      "\u001b[31mFileNotFoundError\u001b[39m                         Traceback (most recent call last)",
      "\u001b[36mCell\u001b[39m\u001b[36m \u001b[39m\u001b[32mIn[45]\u001b[39m\u001b[32m, line 10\u001b[39m\n\u001b[32m      7\u001b[39m \u001b[38;5;66;03m# embed y values using the pretrained char2vec model\u001b[39;00m\n\u001b[32m      8\u001b[39m \u001b[38;5;66;03m# Load the pretrained char2vec model\u001b[39;00m\n\u001b[32m      9\u001b[39m \u001b[38;5;28;01mfrom\u001b[39;00m\u001b[38;5;250m \u001b[39m\u001b[34;01mgensim\u001b[39;00m\u001b[34;01m.\u001b[39;00m\u001b[34;01mmodels\u001b[39;00m\u001b[38;5;250m \u001b[39m\u001b[38;5;28;01mimport\u001b[39;00m KeyedVectors\n\u001b[32m---> \u001b[39m\u001b[32m10\u001b[39m char2vec_model = \u001b[43mKeyedVectors\u001b[49m\u001b[43m.\u001b[49m\u001b[43mload_word2vec_format\u001b[49m\u001b[43m(\u001b[49m\u001b[33;43mr\u001b[39;49m\u001b[33;43m'\u001b[39;49m\u001b[33;43mC:\u001b[39;49m\u001b[33;43m\\\u001b[39;49m\u001b[33;43mUsers\u001b[39;49m\u001b[33;43m\\\u001b[39;49m\u001b[33;43mHome\u001b[39;49m\u001b[33;43m\\\u001b[39;49m\u001b[33;43mDesktop\u001b[39;49m\u001b[33;43m\\\u001b[39;49m\u001b[33;43mPython Scripts\u001b[39;49m\u001b[33;43m\\\u001b[39;49m\u001b[33;43mkat-master\u001b[39;49m\u001b[33;43m\\\u001b[39;49m\u001b[33;43mchar2vec.bin\u001b[39;49m\u001b[33;43m'\u001b[39;49m\u001b[43m,\u001b[49m\u001b[43m \u001b[49m\u001b[43mbinary\u001b[49m\u001b[43m=\u001b[49m\u001b[38;5;28;43;01mTrue\u001b[39;49;00m\u001b[43m)\u001b[49m\n\u001b[32m     11\u001b[39m \u001b[38;5;66;03m# Convert the target variable to a list of strings\u001b[39;00m\n\u001b[32m     12\u001b[39m y_train_list = y_train[\u001b[33m'\u001b[39m\u001b[33mtarget\u001b[39m\u001b[33m'\u001b[39m].tolist()\n",
      "\u001b[36mFile \u001b[39m\u001b[32mc:\\Users\\Home\\anaconda3\\envs\\torchenv\\Lib\\site-packages\\gensim\\models\\keyedvectors.py:1719\u001b[39m, in \u001b[36mKeyedVectors.load_word2vec_format\u001b[39m\u001b[34m(cls, fname, fvocab, binary, encoding, unicode_errors, limit, datatype, no_header)\u001b[39m\n\u001b[32m   1672\u001b[39m \u001b[38;5;129m@classmethod\u001b[39m\n\u001b[32m   1673\u001b[39m \u001b[38;5;28;01mdef\u001b[39;00m\u001b[38;5;250m \u001b[39m\u001b[34mload_word2vec_format\u001b[39m(\n\u001b[32m   1674\u001b[39m         \u001b[38;5;28mcls\u001b[39m, fname, fvocab=\u001b[38;5;28;01mNone\u001b[39;00m, binary=\u001b[38;5;28;01mFalse\u001b[39;00m, encoding=\u001b[33m'\u001b[39m\u001b[33mutf8\u001b[39m\u001b[33m'\u001b[39m, unicode_errors=\u001b[33m'\u001b[39m\u001b[33mstrict\u001b[39m\u001b[33m'\u001b[39m,\n\u001b[32m   1675\u001b[39m         limit=\u001b[38;5;28;01mNone\u001b[39;00m, datatype=REAL, no_header=\u001b[38;5;28;01mFalse\u001b[39;00m,\n\u001b[32m   1676\u001b[39m     ):\n\u001b[32m   1677\u001b[39m \u001b[38;5;250m    \u001b[39m\u001b[33;03m\"\"\"Load KeyedVectors from a file produced by the original C word2vec-tool format.\u001b[39;00m\n\u001b[32m   1678\u001b[39m \n\u001b[32m   1679\u001b[39m \u001b[33;03m    Warnings\u001b[39;00m\n\u001b[32m   (...)\u001b[39m\u001b[32m   1717\u001b[39m \n\u001b[32m   1718\u001b[39m \u001b[33;03m    \"\"\"\u001b[39;00m\n\u001b[32m-> \u001b[39m\u001b[32m1719\u001b[39m     \u001b[38;5;28;01mreturn\u001b[39;00m \u001b[43m_load_word2vec_format\u001b[49m\u001b[43m(\u001b[49m\n\u001b[32m   1720\u001b[39m \u001b[43m        \u001b[49m\u001b[38;5;28;43mcls\u001b[39;49m\u001b[43m,\u001b[49m\u001b[43m \u001b[49m\u001b[43mfname\u001b[49m\u001b[43m,\u001b[49m\u001b[43m \u001b[49m\u001b[43mfvocab\u001b[49m\u001b[43m=\u001b[49m\u001b[43mfvocab\u001b[49m\u001b[43m,\u001b[49m\u001b[43m \u001b[49m\u001b[43mbinary\u001b[49m\u001b[43m=\u001b[49m\u001b[43mbinary\u001b[49m\u001b[43m,\u001b[49m\u001b[43m \u001b[49m\u001b[43mencoding\u001b[49m\u001b[43m=\u001b[49m\u001b[43mencoding\u001b[49m\u001b[43m,\u001b[49m\u001b[43m \u001b[49m\u001b[43municode_errors\u001b[49m\u001b[43m=\u001b[49m\u001b[43municode_errors\u001b[49m\u001b[43m,\u001b[49m\n\u001b[32m   1721\u001b[39m \u001b[43m        \u001b[49m\u001b[43mlimit\u001b[49m\u001b[43m=\u001b[49m\u001b[43mlimit\u001b[49m\u001b[43m,\u001b[49m\u001b[43m \u001b[49m\u001b[43mdatatype\u001b[49m\u001b[43m=\u001b[49m\u001b[43mdatatype\u001b[49m\u001b[43m,\u001b[49m\u001b[43m \u001b[49m\u001b[43mno_header\u001b[49m\u001b[43m=\u001b[49m\u001b[43mno_header\u001b[49m\u001b[43m,\u001b[49m\n\u001b[32m   1722\u001b[39m \u001b[43m    \u001b[49m\u001b[43m)\u001b[49m\n",
      "\u001b[36mFile \u001b[39m\u001b[32mc:\\Users\\Home\\anaconda3\\envs\\torchenv\\Lib\\site-packages\\gensim\\models\\keyedvectors.py:2048\u001b[39m, in \u001b[36m_load_word2vec_format\u001b[39m\u001b[34m(cls, fname, fvocab, binary, encoding, unicode_errors, limit, datatype, no_header, binary_chunk_size)\u001b[39m\n\u001b[32m   2045\u001b[39m             counts[word] = \u001b[38;5;28mint\u001b[39m(count)\n\u001b[32m   2047\u001b[39m logger.info(\u001b[33m\"\u001b[39m\u001b[33mloading projection weights from \u001b[39m\u001b[38;5;132;01m%s\u001b[39;00m\u001b[33m\"\u001b[39m, fname)\n\u001b[32m-> \u001b[39m\u001b[32m2048\u001b[39m \u001b[38;5;28;01mwith\u001b[39;00m \u001b[43mutils\u001b[49m\u001b[43m.\u001b[49m\u001b[43mopen\u001b[49m\u001b[43m(\u001b[49m\u001b[43mfname\u001b[49m\u001b[43m,\u001b[49m\u001b[43m \u001b[49m\u001b[33;43m'\u001b[39;49m\u001b[33;43mrb\u001b[39;49m\u001b[33;43m'\u001b[39;49m\u001b[43m)\u001b[49m \u001b[38;5;28;01mas\u001b[39;00m fin:\n\u001b[32m   2049\u001b[39m     \u001b[38;5;28;01mif\u001b[39;00m no_header:\n\u001b[32m   2050\u001b[39m         \u001b[38;5;66;03m# deduce both vocab_size & vector_size from 1st pass over file\u001b[39;00m\n\u001b[32m   2051\u001b[39m         \u001b[38;5;28;01mif\u001b[39;00m binary:\n",
      "\u001b[36mFile \u001b[39m\u001b[32mc:\\Users\\Home\\anaconda3\\envs\\torchenv\\Lib\\site-packages\\smart_open\\smart_open_lib.py:188\u001b[39m, in \u001b[36mopen\u001b[39m\u001b[34m(uri, mode, buffering, encoding, errors, newline, closefd, opener, ignore_ext, compression, transport_params)\u001b[39m\n\u001b[32m    185\u001b[39m \u001b[38;5;28;01mif\u001b[39;00m transport_params \u001b[38;5;129;01mis\u001b[39;00m \u001b[38;5;28;01mNone\u001b[39;00m:\n\u001b[32m    186\u001b[39m     transport_params = {}\n\u001b[32m--> \u001b[39m\u001b[32m188\u001b[39m fobj = \u001b[43m_shortcut_open\u001b[49m\u001b[43m(\u001b[49m\n\u001b[32m    189\u001b[39m \u001b[43m    \u001b[49m\u001b[43muri\u001b[49m\u001b[43m,\u001b[49m\n\u001b[32m    190\u001b[39m \u001b[43m    \u001b[49m\u001b[43mmode\u001b[49m\u001b[43m,\u001b[49m\n\u001b[32m    191\u001b[39m \u001b[43m    \u001b[49m\u001b[43mcompression\u001b[49m\u001b[43m=\u001b[49m\u001b[43mcompression\u001b[49m\u001b[43m,\u001b[49m\n\u001b[32m    192\u001b[39m \u001b[43m    \u001b[49m\u001b[43mbuffering\u001b[49m\u001b[43m=\u001b[49m\u001b[43mbuffering\u001b[49m\u001b[43m,\u001b[49m\n\u001b[32m    193\u001b[39m \u001b[43m    \u001b[49m\u001b[43mencoding\u001b[49m\u001b[43m=\u001b[49m\u001b[43mencoding\u001b[49m\u001b[43m,\u001b[49m\n\u001b[32m    194\u001b[39m \u001b[43m    \u001b[49m\u001b[43merrors\u001b[49m\u001b[43m=\u001b[49m\u001b[43merrors\u001b[49m\u001b[43m,\u001b[49m\n\u001b[32m    195\u001b[39m \u001b[43m    \u001b[49m\u001b[43mnewline\u001b[49m\u001b[43m=\u001b[49m\u001b[43mnewline\u001b[49m\u001b[43m,\u001b[49m\n\u001b[32m    196\u001b[39m \u001b[43m\u001b[49m\u001b[43m)\u001b[49m\n\u001b[32m    197\u001b[39m \u001b[38;5;28;01mif\u001b[39;00m fobj \u001b[38;5;129;01mis\u001b[39;00m \u001b[38;5;129;01mnot\u001b[39;00m \u001b[38;5;28;01mNone\u001b[39;00m:\n\u001b[32m    198\u001b[39m     \u001b[38;5;28;01mreturn\u001b[39;00m fobj\n",
      "\u001b[36mFile \u001b[39m\u001b[32mc:\\Users\\Home\\anaconda3\\envs\\torchenv\\Lib\\site-packages\\smart_open\\smart_open_lib.py:361\u001b[39m, in \u001b[36m_shortcut_open\u001b[39m\u001b[34m(uri, mode, compression, buffering, encoding, errors, newline)\u001b[39m\n\u001b[32m    358\u001b[39m \u001b[38;5;28;01mif\u001b[39;00m errors \u001b[38;5;129;01mand\u001b[39;00m \u001b[33m'\u001b[39m\u001b[33mb\u001b[39m\u001b[33m'\u001b[39m \u001b[38;5;129;01mnot\u001b[39;00m \u001b[38;5;129;01min\u001b[39;00m mode:\n\u001b[32m    359\u001b[39m     open_kwargs[\u001b[33m'\u001b[39m\u001b[33merrors\u001b[39m\u001b[33m'\u001b[39m] = errors\n\u001b[32m--> \u001b[39m\u001b[32m361\u001b[39m \u001b[38;5;28;01mreturn\u001b[39;00m \u001b[43m_builtin_open\u001b[49m\u001b[43m(\u001b[49m\u001b[43mlocal_path\u001b[49m\u001b[43m,\u001b[49m\u001b[43m \u001b[49m\u001b[43mmode\u001b[49m\u001b[43m,\u001b[49m\u001b[43m \u001b[49m\u001b[43mbuffering\u001b[49m\u001b[43m=\u001b[49m\u001b[43mbuffering\u001b[49m\u001b[43m,\u001b[49m\u001b[43m \u001b[49m\u001b[43m*\u001b[49m\u001b[43m*\u001b[49m\u001b[43mopen_kwargs\u001b[49m\u001b[43m)\u001b[49m\n",
      "\u001b[31mFileNotFoundError\u001b[39m: [Errno 2] No such file or directory: 'C:\\\\Users\\\\Home\\\\Desktop\\\\Python Scripts\\\\kat-master\\\\char2vec.bin'"
     ]
    }
   ],
   "source": [
    "# set up model variables\n",
    "X = X_df\n",
    "y = um_y # target variable\n",
    "# Split the data into training and testing sets\n",
    "X_train, X_test, y_train, y_test = train_test_split(X, y, test_size=0.2, random_state=42)\n",
    "\n",
    "# embed y values using the pretrained char2vec model\n",
    "# Load the pretrained char2vec model\n",
    "from gensim.models import KeyedVectors\n",
    "char2vec_model = KeyedVectors.load_word2vec_format(r'C:\\Users\\Home\\Desktop\\Python Scripts\\kat-master\\char2vec.bin', binary=True)\n",
    "# Convert the target variable to a list of strings\n",
    "y_train_list = y_train['target'].tolist()\n",
    "# Create a list to store the embedded vectors\n",
    "y_train_vectors = []\n",
    "# Iterate over each string in the target variable\n",
    "for string in y_train_list:\n",
    "    # Split the string into characters\n",
    "    chars = list(string)\n",
    "    # Get the vector for each character and average them\n",
    "    vectors = [char2vec_model[char] for char in chars if char in char2vec_model.key_to_index]\n",
    "    if vectors:\n",
    "        avg_vector = sum(vectors) / len(vectors)\n",
    "        y_train_vectors.append(avg_vector)\n",
    "    else:\n",
    "        y_train_vectors.append([0] * 100)  # Use a zero vector if no characters are found\n",
    "# Convert the list of vectors to a DataFrame\n",
    "y_train_vectors_df = pd.DataFrame(y_train_vectors, columns=[f'char2vec_{i}' for i in range(100)])\n",
    "\n",
    "# Convert the data to PyTorch tensors\n",
    "X_train_tensor = torch.tensor(X_train.values, dtype=torch.float32)\n",
    "X_test_tensor = torch.tensor(X_test.values, dtype=torch.float32)\n",
    "y_train_tensor = torch.tensor(y_train.values, dtype=torch.float32)\n",
    "y_test_tensor = torch.tensor(y_test.values, dtype=torch.float32)\n",
    "# Create a custom dataset class\n",
    "class CustomDataset(Dataset):\n",
    "    def __init__(self, features, labels):\n",
    "        self.features = features\n",
    "        self.labels = labels\n",
    "\n",
    "    def __len__(self):\n",
    "        return len(self.features)\n",
    "\n",
    "    def __getitem__(self, idx):\n",
    "        return self.features[idx], self.labels[idx]\n",
    "    \n",
    "# Create DataLoader objects for training and testing data\n",
    "train_dataset = CustomDataset(X_train_tensor, y_train_tensor)\n",
    "test_dataset = CustomDataset(X_test_tensor, y_test_tensor)\n",
    "train_loader = DataLoader(train_dataset, batch_size=32, shuffle=True)\n",
    "test_loader = DataLoader(test_dataset, batch_size=32, shuffle=False)"
   ]
  },
  {
   "cell_type": "code",
   "execution_count": 7,
   "id": "b63bbe49",
   "metadata": {},
   "outputs": [
    {
     "ename": "ModuleNotFoundError",
     "evalue": "No module named 'tensorboard'",
     "output_type": "error",
     "traceback": [
      "\u001b[31m---------------------------------------------------------------------------\u001b[39m",
      "\u001b[31mModuleNotFoundError\u001b[39m                       Traceback (most recent call last)",
      "\u001b[36mCell\u001b[39m\u001b[36m \u001b[39m\u001b[32mIn[7]\u001b[39m\u001b[32m, line 5\u001b[39m\n\u001b[32m      3\u001b[39m \u001b[38;5;28;01mimport\u001b[39;00m\u001b[38;5;250m \u001b[39m\u001b[34;01mtorch\u001b[39;00m\u001b[34;01m.\u001b[39;00m\u001b[34;01moptim\u001b[39;00m\u001b[38;5;250m \u001b[39m\u001b[38;5;28;01mas\u001b[39;00m\u001b[38;5;250m \u001b[39m\u001b[34;01moptim\u001b[39;00m\n\u001b[32m      4\u001b[39m \u001b[38;5;28;01mfrom\u001b[39;00m\u001b[38;5;250m \u001b[39m\u001b[34;01mtorch\u001b[39;00m\u001b[34;01m.\u001b[39;00m\u001b[34;01mutils\u001b[39;00m\u001b[34;01m.\u001b[39;00m\u001b[34;01mdata\u001b[39;00m\u001b[38;5;250m \u001b[39m\u001b[38;5;28;01mimport\u001b[39;00m Dataset, DataLoader\n\u001b[32m----> \u001b[39m\u001b[32m5\u001b[39m \u001b[38;5;28;01mfrom\u001b[39;00m\u001b[38;5;250m \u001b[39m\u001b[34;01mtorch\u001b[39;00m\u001b[34;01m.\u001b[39;00m\u001b[34;01mutils\u001b[39;00m\u001b[34;01m.\u001b[39;00m\u001b[34;01mtensorboard\u001b[39;00m\u001b[38;5;250m \u001b[39m\u001b[38;5;28;01mimport\u001b[39;00m SummaryWriter\n\u001b[32m      6\u001b[39m \u001b[38;5;28;01mfrom\u001b[39;00m\u001b[38;5;250m \u001b[39m\u001b[34;01msklearn\u001b[39;00m\u001b[34;01m.\u001b[39;00m\u001b[34;01mpreprocessing\u001b[39;00m\u001b[38;5;250m \u001b[39m\u001b[38;5;28;01mimport\u001b[39;00m LabelEncoder\n\u001b[32m      7\u001b[39m \u001b[38;5;28;01mimport\u001b[39;00m\u001b[38;5;250m \u001b[39m\u001b[34;01mpandas\u001b[39;00m\u001b[38;5;250m \u001b[39m\u001b[38;5;28;01mas\u001b[39;00m\u001b[38;5;250m \u001b[39m\u001b[34;01mpd\u001b[39;00m\n",
      "\u001b[36mFile \u001b[39m\u001b[32mc:\\Users\\Home\\anaconda3\\envs\\torchenv\\Lib\\site-packages\\torch\\utils\\tensorboard\\__init__.py:1\u001b[39m\n\u001b[32m----> \u001b[39m\u001b[32m1\u001b[39m \u001b[38;5;28;01mimport\u001b[39;00m\u001b[38;5;250m \u001b[39m\u001b[34;01mtensorboard\u001b[39;00m\n\u001b[32m      2\u001b[39m \u001b[38;5;28;01mfrom\u001b[39;00m\u001b[38;5;250m \u001b[39m\u001b[34;01mtorch\u001b[39;00m\u001b[34;01m.\u001b[39;00m\u001b[34;01m_vendor\u001b[39;00m\u001b[34;01m.\u001b[39;00m\u001b[34;01mpackaging\u001b[39;00m\u001b[34;01m.\u001b[39;00m\u001b[34;01mversion\u001b[39;00m\u001b[38;5;250m \u001b[39m\u001b[38;5;28;01mimport\u001b[39;00m Version\n\u001b[32m      4\u001b[39m \u001b[38;5;28;01mif\u001b[39;00m \u001b[38;5;129;01mnot\u001b[39;00m \u001b[38;5;28mhasattr\u001b[39m(tensorboard, \u001b[33m\"\u001b[39m\u001b[33m__version__\u001b[39m\u001b[33m\"\u001b[39m) \u001b[38;5;129;01mor\u001b[39;00m Version(\n\u001b[32m      5\u001b[39m     tensorboard.__version__\n\u001b[32m      6\u001b[39m ) < Version(\u001b[33m\"\u001b[39m\u001b[33m1.15\u001b[39m\u001b[33m\"\u001b[39m):\n",
      "\u001b[31mModuleNotFoundError\u001b[39m: No module named 'tensorboard'"
     ]
    }
   ],
   "source": [
    "import torch\n",
    "import torch.nn as nn\n",
    "import torch.optim as optim\n",
    "from torch.utils.data import Dataset, DataLoader\n",
    "from torch.utils.tensorboard import SummaryWriter\n",
    "from sklearn.preprocessing import LabelEncoder\n",
    "import pandas as pd\n",
    "from tqdm import tqdm\n",
    "\n",
    "# Hyperparameters\n",
    "BATCH_SIZE = 128\n",
    "EMBED_DIM = 100\n",
    "HIDDEN_DIM = 128\n",
    "NUM_LAYERS = 2\n",
    "EPOCHS = 10\n",
    "MAX_LENGTH = 40\n",
    "LEARNING_RATE = 0.001\n",
    "DEVICE = torch.device('cuda' if torch.cuda.is_available() else 'cpu')\n",
    "\n",
    "# Prepare your dataset\n",
    "class CharDataset(Dataset):\n",
    "    def __init__(self, sequences, char2idx, max_length):\n",
    "        self.sequences = sequences\n",
    "        self.char2idx = char2idx\n",
    "        self.max_length = max_length\n",
    "\n",
    "    def __len__(self):\n",
    "        return len(self.sequences)\n",
    "\n",
    "    def __getitem__(self, idx):\n",
    "        text = self.sequences[idx]\n",
    "        padded = text.ljust(self.max_length)\n",
    "        input_seq = [self.char2idx[c] for c in padded[:-1]]\n",
    "        target_seq = [self.char2idx[c] for c in padded[1:]]\n",
    "        return torch.tensor(input_seq), torch.tensor(target_seq)\n",
    "\n",
    "# Model Definition\n",
    "class CharRNN(nn.Module):\n",
    "    def __init__(self, vocab_size, embed_dim, hidden_dim, num_layers):\n",
    "        super(CharRNN, self).__init__()\n",
    "        self.embedding = nn.Embedding(vocab_size, embed_dim)\n",
    "        self.rnn = nn.LSTM(embed_dim, hidden_dim, num_layers, batch_first=True)\n",
    "        self.fc = nn.Linear(hidden_dim, vocab_size)\n",
    "\n",
    "    def forward(self, x, hidden=None):\n",
    "        embedded = self.embedding(x)\n",
    "        out, hidden = self.rnn(embedded, hidden)\n",
    "        out = self.fc(out)\n",
    "        return out, hidden\n",
    "\n",
    "# Read and prepare the data\n",
    "train_data = X_train['lemma'] + \" \" + y_train['form']\n",
    "sequences = list(train_data)\n",
    "\n",
    "# Build character vocabulary\n",
    "chars = sorted(list(set(\"\".join(sequences))))\n",
    "char2idx = {c: i for i, c in enumerate(chars)}\n",
    "idx2char = {i: c for c, i in char2idx.items()}\n",
    "\n",
    "# Dataset and DataLoader\n",
    "dataset = CharDataset(sequences, char2idx, MAX_LENGTH)\n",
    "dataloader = DataLoader(dataset, batch_size=BATCH_SIZE, shuffle=True)\n",
    "\n",
    "# Model, loss, optimizer\n",
    "model = CharRNN(len(char2idx), EMBED_DIM, HIDDEN_DIM, NUM_LAYERS).to(DEVICE)\n",
    "criterion = nn.CrossEntropyLoss()\n",
    "optimizer = optim.Adam(model.parameters(), lr=LEARNING_RATE)\n",
    "\n",
    "# TensorBoard\n",
    "writer = SummaryWriter()\n",
    "\n",
    "# Training loop\n",
    "step = 0\n",
    "for epoch in range(EPOCHS):\n",
    "    model.train()\n",
    "    total_loss = 0\n",
    "    for inputs, targets in tqdm(dataloader, desc=f\"Epoch {epoch+1}/{EPOCHS}\"):\n",
    "        inputs, targets = inputs.to(DEVICE), targets.to(DEVICE)\n",
    "        optimizer.zero_grad()\n",
    "        outputs, _ = model(inputs)\n",
    "        loss = criterion(outputs.view(-1, outputs.size(-1)), targets.view(-1))\n",
    "        loss.backward()\n",
    "        optimizer.step()\n",
    "        total_loss += loss.item()\n",
    "        \n",
    "        writer.add_scalar('Loss/train', loss.item(), step)\n",
    "        step += 1\n",
    "\n",
    "    print(f\"Epoch {epoch+1} Loss: {total_loss / len(dataloader):.4f}\")\n",
    "    writer.add_scalar('Loss/epoch_avg', total_loss / len(dataloader), epoch)\n",
    "\n",
    "# Save model\n",
    "torch.save(model.state_dict(), \"char_rnn_model.pt\")\n",
    "writer.close()"
   ]
  }
 ],
 "metadata": {
  "kernelspec": {
   "display_name": "torchenv",
   "language": "python",
   "name": "python3"
  },
  "language_info": {
   "codemirror_mode": {
    "name": "ipython",
    "version": 3
   },
   "file_extension": ".py",
   "mimetype": "text/x-python",
   "name": "python",
   "nbconvert_exporter": "python",
   "pygments_lexer": "ipython3",
   "version": "3.12.7"
  }
 },
 "nbformat": 4,
 "nbformat_minor": 5
}
