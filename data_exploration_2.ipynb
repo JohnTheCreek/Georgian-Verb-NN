{
 "cells": [
  {
   "cell_type": "markdown",
   "id": "aa595fa1",
   "metadata": {},
   "source": [
    "# Data exploration and transformation\n",
    "\n",
    "Here, we will:\n",
    "- read in the unimorph dataset for Georgian.\n",
    "- observe the structure of the \"tag\" column.\n",
    "- decide on the fact that lemma and tag will be our features and form will be our target value.\n",
    "- read in kartuverbs dataset.\n",
    "- drop opaque columns, such as id, sub_id.\n",
    "- transform the dataset to be more similar to the unimorph style with the difference that the verbal noun will be treated as the lemma form as the kartuverbs project does. This leaves the dataset more streamlined.\n",
    "- split into feature and target values and save the cleaned data as two seperate csv files."
   ]
  },
  {
   "cell_type": "markdown",
   "id": "4a26317b",
   "metadata": {},
   "source": [
    "## UniMorph data"
   ]
  },
  {
   "cell_type": "code",
   "execution_count": 74,
   "id": "88fea2d9",
   "metadata": {},
   "outputs": [],
   "source": [
    "# import libraries \n",
    "import pandas as pd\n",
    "import numpy as np\n",
    "\n",
    "# Read in UniMorph\n",
    "um = pd.read_csv(r\"C:\\Users\\Home\\Desktop\\Python Scripts\\kat-master\\kat\", sep='\\t', header=None, names=['lemma', 'form', 'tag'])"
   ]
  },
  {
   "cell_type": "code",
   "execution_count": 75,
   "id": "18aeb67b",
   "metadata": {},
   "outputs": [
    {
     "name": "stdout",
     "output_type": "stream",
     "text": [
      "     lemma       form                tag\n",
      "0  შეუძლია   შემიძლია  V;ARGNO1S;IND;PRS\n",
      "1  შეუძლია   შეგიძლია  V;ARGNO2S;IND;PRS\n",
      "2  შეუძლია    შეუძლია  V;ARGNO3S;IND;PRS\n",
      "3  შეუძლია  შეგვიძლია  V;ARGNO1P;IND;PRS\n",
      "4  შეუძლია  შეგიძლიათ  V;ARGNO2P;IND;PRS\n"
     ]
    }
   ],
   "source": [
    "# data exploration\n",
    "print(um.head())"
   ]
  },
  {
   "cell_type": "code",
   "execution_count": 76,
   "id": "6022bb3f",
   "metadata": {},
   "outputs": [
    {
     "name": "stdout",
     "output_type": "stream",
     "text": [
      "num of duplicates:0\n",
      "num of unique words:75998\n",
      "num of unique lemmas:3852\n",
      "num of unique tags:443\n",
      "num of unique word-lemma pairs:76204\n",
      "num of unique word-tag pairs:91951\n"
     ]
    }
   ],
   "source": [
    "# check for duplicates\n",
    "print(\"num of duplicates:\" + str(um.duplicated().sum()))\n",
    "print(\"num of unique words:\" + str(um.form.nunique()))\n",
    "print(\"num of unique lemmas:\" + str(um.lemma.nunique()))\n",
    "print(\"num of unique tags:\" + str(um.tag.nunique()))\n",
    "print(\"num of unique word-lemma pairs:\" + str(um[['form', 'lemma']].drop_duplicates().shape[0]))\n",
    "print(\"num of unique word-tag pairs:\" + str(um[['form', 'tag']].drop_duplicates().shape[0]))"
   ]
  },
  {
   "cell_type": "code",
   "execution_count": 77,
   "id": "31c6badc",
   "metadata": {},
   "outputs": [],
   "source": [
    "# Filter for verbs\n",
    "um = um[um.tag.str.contains(r'\\bV;', na=False)]"
   ]
  },
  {
   "cell_type": "code",
   "execution_count": 78,
   "id": "753886ca",
   "metadata": {},
   "outputs": [
    {
     "data": {
      "text/html": [
       "<div>\n",
       "<style scoped>\n",
       "    .dataframe tbody tr th:only-of-type {\n",
       "        vertical-align: middle;\n",
       "    }\n",
       "\n",
       "    .dataframe tbody tr th {\n",
       "        vertical-align: top;\n",
       "    }\n",
       "\n",
       "    .dataframe thead th {\n",
       "        text-align: right;\n",
       "    }\n",
       "</style>\n",
       "<table border=\"1\" class=\"dataframe\">\n",
       "  <thead>\n",
       "    <tr style=\"text-align: right;\">\n",
       "      <th></th>\n",
       "      <th>lemma</th>\n",
       "      <th>form</th>\n",
       "      <th>tag</th>\n",
       "    </tr>\n",
       "  </thead>\n",
       "  <tbody>\n",
       "    <tr>\n",
       "      <th>21049</th>\n",
       "      <td>წერს</td>\n",
       "      <td>დაგვეწეროს</td>\n",
       "      <td>V;ARGNO1P;ARGAC3P;SBJV;PRF</td>\n",
       "    </tr>\n",
       "    <tr>\n",
       "      <th>21050</th>\n",
       "      <td>წერს</td>\n",
       "      <td>დაგეწეროთ</td>\n",
       "      <td>V;ARGNO2P;ARGAC3P;SBJV;PRF</td>\n",
       "    </tr>\n",
       "    <tr>\n",
       "      <th>21051</th>\n",
       "      <td>წერს</td>\n",
       "      <td>დაეწეროთ</td>\n",
       "      <td>V;ARGNO3P;ARGAC3P;SBJV;PRF</td>\n",
       "    </tr>\n",
       "    <tr>\n",
       "      <th>21052</th>\n",
       "      <td>წერს</td>\n",
       "      <td>დაწერა</td>\n",
       "      <td>V;V.MSDR;PRF</td>\n",
       "    </tr>\n",
       "    <tr>\n",
       "      <th>21053</th>\n",
       "      <td>წერს</td>\n",
       "      <td>წერა</td>\n",
       "      <td>V;V.MSDR;IPFV</td>\n",
       "    </tr>\n",
       "  </tbody>\n",
       "</table>\n",
       "</div>"
      ],
      "text/plain": [
       "      lemma        form                         tag\n",
       "21049  წერს  დაგვეწეროს  V;ARGNO1P;ARGAC3P;SBJV;PRF\n",
       "21050  წერს   დაგეწეროთ  V;ARGNO2P;ARGAC3P;SBJV;PRF\n",
       "21051  წერს    დაეწეროთ  V;ARGNO3P;ARGAC3P;SBJV;PRF\n",
       "21052  წერს      დაწერა                V;V.MSDR;PRF\n",
       "21053  წერს        წერა               V;V.MSDR;IPFV"
      ]
     },
     "execution_count": 78,
     "metadata": {},
     "output_type": "execute_result"
    }
   ],
   "source": [
    "# explore data again\n",
    "um.head()\n",
    "um.tail()\n"
   ]
  },
  {
   "cell_type": "code",
   "execution_count": 86,
   "id": "01115ab6",
   "metadata": {},
   "outputs": [],
   "source": [
    "# split into features and target \n",
    "um_features = um.drop(columns=['form'])\n",
    "um_target = um['form']"
   ]
  },
  {
   "cell_type": "code",
   "execution_count": 87,
   "id": "d9701510",
   "metadata": {},
   "outputs": [],
   "source": [
    "# save the cleaned data\n",
    "um_features.to_csv(r\"C:\\Users\\Home\\Desktop\\Python Scripts\\kat-master\\um_features.csv\", index=False)\n",
    "um_target.to_csv(r\"C:\\Users\\Home\\Desktop\\Python Scripts\\kat-master\\um_target.csv\", index=False)"
   ]
  },
  {
   "cell_type": "markdown",
   "id": "c9065b7e",
   "metadata": {},
   "source": [
    "## KartuVerbs data"
   ]
  },
  {
   "cell_type": "code",
   "execution_count": 79,
   "id": "d57698ae",
   "metadata": {},
   "outputs": [],
   "source": [
    "# read in kartuverbs\n",
    "kv = pd.read_csv(r\"C:\\Users\\Home\\Desktop\\Python Scripts\\KartuVerbs-main\\data_vn+\", sep=';')"
   ]
  },
  {
   "cell_type": "code",
   "execution_count": 80,
   "id": "2d026984",
   "metadata": {},
   "outputs": [
    {
     "name": "stdout",
     "output_type": "stream",
     "text": [
      "         form tense_in_paradigm  person number preverb pre2    root sf2  \\\n",
      "0   ვაბეზარობ           present       1     sg       -    ვ  აბეზარ  ობ   \n",
      "1   ჰაბეზარობ           present       2     sg       -    ჰ  აბეზარ  ობ   \n",
      "2    აბეზარობ           present       2     sg       -    -  აბეზარ  ობ   \n",
      "3  ჰაბეზარობს           present       3     sg       -    ჰ  აბეზარ  ობ   \n",
      "4   აბეზარობს           present       3     sg       -    -  აბეზარ  ობ   \n",
      "\n",
      "  caus_sf ending tsch_class morph_type sub_id  id          vn  \n",
      "0       -      -         MV     active    1-1   1  *აბეზარობა  \n",
      "1       -      -         MV     active    1-1   1  *აბეზარობა  \n",
      "2       -      -         MV     active    1-1   1  *აბეზარობა  \n",
      "3       -      ს         MV     active    1-1   1  *აბეზარობა  \n",
      "4       -      ს         MV     active    1-1   1  *აბეზარობა  \n",
      "                  form tense_in_paradigm  person number preverb pre2    root  \\\n",
      "99994    დაუბზრიალებდე       conj-future       2     sg      და    უ  ბზრიალ   \n",
      "99995   დაუბზრიალებდეს       conj-future       3     sg      და    უ  ბზრიალ   \n",
      "99996  დავუბზრიალებდეთ       conj-future       1     pl      და   ვუ  ბზრიალ   \n",
      "99997   დაუბზრიალებდეთ       conj-future       2     pl      და    უ  ბზრიალ   \n",
      "99998   დაუბზრიალებდენ       conj-future       3     pl      და    უ  ბზრიალ   \n",
      "\n",
      "      sf2 caus_sf ending tsch_class morph_type  sub_id   id          vn  \n",
      "99994  ებ       -     დე         T3     active  166-10  166  *ბზრიალება  \n",
      "99995  ებ       -    დეს         T3     active  166-10  166  *ბზრიალება  \n",
      "99996  ებ       -    დეთ         T3     active  166-10  166  *ბზრიალება  \n",
      "99997  ებ       -    დეთ         T3     active  166-10  166  *ბზრიალება  \n",
      "99998  ებ       -    დენ         T3     active  166-10  166  *ბზრიალება  \n"
     ]
    }
   ],
   "source": [
    "# explore kv\n",
    "print(kv.head())\n",
    "print(kv.tail())"
   ]
  },
  {
   "cell_type": "markdown",
   "id": "e90ad6e6",
   "metadata": {},
   "source": [
    "### drop opaque features in order to make a dataframe that is more akin to the unimorph dataset.\n",
    "\n",
    "These include: \n",
    "\n",
    "\n",
    "- id\n",
    "- sub_id\n",
    "- preverb\n",
    "- pre2\n",
    "- sf2\n",
    "- caus_sf\n",
    "- ending\n",
    "\n",
    "Reason: \n",
    "- id and sub_id are 1:1 identifiers for the verb. \n",
    "- Further, and most importantly, the model would not learn any morphologic patterns if it learns based on numeric identifiers. \n",
    "- Also, we want the model to learn the remaining morphologic information (like suffixes, affixes, apophony) on itself. \n",
    "- this time, vn is taken as the lemma form"
   ]
  },
  {
   "cell_type": "code",
   "execution_count": 81,
   "id": "4f5d6378",
   "metadata": {},
   "outputs": [],
   "source": [
    "# strip asterisk from vn column\n",
    "kv['vn'] = kv['vn'].str.replace(r'\\*', '', regex=True)"
   ]
  },
  {
   "cell_type": "code",
   "execution_count": 82,
   "id": "7e3a339c",
   "metadata": {},
   "outputs": [],
   "source": [
    "# drop opaque features\n",
    "kv = kv.drop(columns=['id', 'sub_id', 'preverb', 'pre2', 'root', 'sf2', 'caus_sf', 'ending'])"
   ]
  },
  {
   "cell_type": "code",
   "execution_count": 83,
   "id": "41bc7c7b",
   "metadata": {},
   "outputs": [
    {
     "data": {
      "text/html": [
       "<div>\n",
       "<style scoped>\n",
       "    .dataframe tbody tr th:only-of-type {\n",
       "        vertical-align: middle;\n",
       "    }\n",
       "\n",
       "    .dataframe tbody tr th {\n",
       "        vertical-align: top;\n",
       "    }\n",
       "\n",
       "    .dataframe thead th {\n",
       "        text-align: right;\n",
       "    }\n",
       "</style>\n",
       "<table border=\"1\" class=\"dataframe\">\n",
       "  <thead>\n",
       "    <tr style=\"text-align: right;\">\n",
       "      <th></th>\n",
       "      <th>form</th>\n",
       "      <th>tense_in_paradigm</th>\n",
       "      <th>person</th>\n",
       "      <th>number</th>\n",
       "      <th>tsch_class</th>\n",
       "      <th>morph_type</th>\n",
       "      <th>vn</th>\n",
       "    </tr>\n",
       "  </thead>\n",
       "  <tbody>\n",
       "    <tr>\n",
       "      <th>0</th>\n",
       "      <td>ვაბეზარობ</td>\n",
       "      <td>present</td>\n",
       "      <td>1</td>\n",
       "      <td>sg</td>\n",
       "      <td>MV</td>\n",
       "      <td>active</td>\n",
       "      <td>აბეზარობა</td>\n",
       "    </tr>\n",
       "    <tr>\n",
       "      <th>1</th>\n",
       "      <td>ჰაბეზარობ</td>\n",
       "      <td>present</td>\n",
       "      <td>2</td>\n",
       "      <td>sg</td>\n",
       "      <td>MV</td>\n",
       "      <td>active</td>\n",
       "      <td>აბეზარობა</td>\n",
       "    </tr>\n",
       "    <tr>\n",
       "      <th>2</th>\n",
       "      <td>აბეზარობ</td>\n",
       "      <td>present</td>\n",
       "      <td>2</td>\n",
       "      <td>sg</td>\n",
       "      <td>MV</td>\n",
       "      <td>active</td>\n",
       "      <td>აბეზარობა</td>\n",
       "    </tr>\n",
       "    <tr>\n",
       "      <th>3</th>\n",
       "      <td>ჰაბეზარობს</td>\n",
       "      <td>present</td>\n",
       "      <td>3</td>\n",
       "      <td>sg</td>\n",
       "      <td>MV</td>\n",
       "      <td>active</td>\n",
       "      <td>აბეზარობა</td>\n",
       "    </tr>\n",
       "    <tr>\n",
       "      <th>4</th>\n",
       "      <td>აბეზარობს</td>\n",
       "      <td>present</td>\n",
       "      <td>3</td>\n",
       "      <td>sg</td>\n",
       "      <td>MV</td>\n",
       "      <td>active</td>\n",
       "      <td>აბეზარობა</td>\n",
       "    </tr>\n",
       "  </tbody>\n",
       "</table>\n",
       "</div>"
      ],
      "text/plain": [
       "         form tense_in_paradigm  person number tsch_class morph_type  \\\n",
       "0   ვაბეზარობ           present       1     sg         MV     active   \n",
       "1   ჰაბეზარობ           present       2     sg         MV     active   \n",
       "2    აბეზარობ           present       2     sg         MV     active   \n",
       "3  ჰაბეზარობს           present       3     sg         MV     active   \n",
       "4   აბეზარობს           present       3     sg         MV     active   \n",
       "\n",
       "          vn  \n",
       "0  აბეზარობა  \n",
       "1  აბეზარობა  \n",
       "2  აბეზარობა  \n",
       "3  აბეზარობა  \n",
       "4  აბეზარობა  "
      ]
     },
     "execution_count": 83,
     "metadata": {},
     "output_type": "execute_result"
    }
   ],
   "source": [
    "kv.head()"
   ]
  },
  {
   "cell_type": "code",
   "execution_count": 84,
   "id": "ed7c0cd5",
   "metadata": {},
   "outputs": [],
   "source": [
    "# split into features and target\n",
    "kv_features = kv.drop(columns=['form'])\n",
    "kv_target = kv['form']"
   ]
  },
  {
   "cell_type": "code",
   "execution_count": 85,
   "id": "1aca2f23",
   "metadata": {},
   "outputs": [],
   "source": [
    "# save the cleaned data to two csv files\n",
    "kv_features.to_csv(r\"C:\\Users\\Home\\Desktop\\Python Scripts\\KartuVerbs-main\\data_vn+_features.csv\", index=False)\n",
    "kv_target.to_csv(r\"C:\\Users\\Home\\Desktop\\Python Scripts\\KartuVerbs-main\\data_vn+_target.csv\", index=False)"
   ]
  }
 ],
 "metadata": {
  "kernelspec": {
   "display_name": "torchenv",
   "language": "python",
   "name": "python3"
  },
  "language_info": {
   "codemirror_mode": {
    "name": "ipython",
    "version": 3
   },
   "file_extension": ".py",
   "mimetype": "text/x-python",
   "name": "python",
   "nbconvert_exporter": "python",
   "pygments_lexer": "ipython3",
   "version": "3.12.7"
  }
 },
 "nbformat": 4,
 "nbformat_minor": 5
}
