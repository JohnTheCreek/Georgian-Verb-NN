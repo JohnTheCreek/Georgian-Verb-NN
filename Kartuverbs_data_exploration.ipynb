{
 "cells": [
  {
   "cell_type": "markdown",
   "id": "d3e21159",
   "metadata": {},
   "source": [
    "# Data Exploration and Preprocessing"
   ]
  },
  {
   "cell_type": "code",
   "execution_count": 1,
   "id": "e365494e",
   "metadata": {},
   "outputs": [],
   "source": [
    "import pandas as pd\n",
    "import numpy as np\n",
    "import matplotlib.pyplot as plt\n",
    "\n",
    "# Read the CSV file into a DataFrame\n",
    "kv = pd.read_csv(r\"C:\\Users\\Home\\Desktop\\KartuVerbs-main\\data_vn+\", sep=';')"
   ]
  },
  {
   "cell_type": "code",
   "execution_count": 2,
   "id": "b83ff83c",
   "metadata": {},
   "outputs": [
    {
     "name": "stdout",
     "output_type": "stream",
     "text": [
      "          form tense_in_paradigm  person number preverb pre2    root sf2  \\\n",
      "0    ვაბეზარობ           present       1     sg       -    ვ  აბეზარ  ობ   \n",
      "1    ჰაბეზარობ           present       2     sg       -    ჰ  აბეზარ  ობ   \n",
      "2     აბეზარობ           present       2     sg       -    -  აბეზარ  ობ   \n",
      "3   ჰაბეზარობს           present       3     sg       -    ჰ  აბეზარ  ობ   \n",
      "4    აბეზარობს           present       3     sg       -    -  აბეზარ  ობ   \n",
      "5   ვაბეზარობთ           present       1     pl       -    ვ  აბეზარ  ობ   \n",
      "6   ჰაბეზარობთ           present       2     pl       -    ჰ  აბეზარ  ობ   \n",
      "7    აბეზარობთ           present       2     pl       -    -  აბეზარ  ობ   \n",
      "8  ჰაბეზარობენ           present       3     pl       -    ჰ  აბეზარ  ობ   \n",
      "9   აბეზარობენ           present       3     pl       -    -  აბეზარ  ობ   \n",
      "\n",
      "  caus_sf ending tsch_class morph_type sub_id  id          vn  \n",
      "0       -      -         MV     active    1-1   1  *აბეზარობა  \n",
      "1       -      -         MV     active    1-1   1  *აბეზარობა  \n",
      "2       -      -         MV     active    1-1   1  *აბეზარობა  \n",
      "3       -      ს         MV     active    1-1   1  *აბეზარობა  \n",
      "4       -      ს         MV     active    1-1   1  *აბეზარობა  \n",
      "5       -      თ         MV     active    1-1   1  *აბეზარობა  \n",
      "6       -      თ         MV     active    1-1   1  *აბეზარობა  \n",
      "7       -      თ         MV     active    1-1   1  *აბეზარობა  \n",
      "8       -     ენ         MV     active    1-1   1  *აბეზარობა  \n",
      "9       -     ენ         MV     active    1-1   1  *აბეზარობა  \n",
      "Index(['form', 'tense_in_paradigm', 'person', 'number', 'preverb', 'pre2',\n",
      "       'root', 'sf2', 'caus_sf', 'ending', 'tsch_class', 'morph_type',\n",
      "       'sub_id', 'id', 'vn'],\n",
      "      dtype='object')\n",
      "<class 'pandas.core.frame.DataFrame'>\n",
      "RangeIndex: 99999 entries, 0 to 99998\n",
      "Data columns (total 15 columns):\n",
      " #   Column             Non-Null Count  Dtype \n",
      "---  ------             --------------  ----- \n",
      " 0   form               99999 non-null  object\n",
      " 1   tense_in_paradigm  99999 non-null  object\n",
      " 2   person             99999 non-null  int64 \n",
      " 3   number             99999 non-null  object\n",
      " 4   preverb            99999 non-null  object\n",
      " 5   pre2               99999 non-null  object\n",
      " 6   root               99999 non-null  object\n",
      " 7   sf2                99999 non-null  object\n",
      " 8   caus_sf            99999 non-null  object\n",
      " 9   ending             99999 non-null  object\n",
      " 10  tsch_class         99999 non-null  object\n",
      " 11  morph_type         99999 non-null  object\n",
      " 12  sub_id             99999 non-null  object\n",
      " 13  id                 99999 non-null  int64 \n",
      " 14  vn                 99999 non-null  object\n",
      "dtypes: int64(2), object(13)\n",
      "memory usage: 11.4+ MB\n",
      "None\n",
      "             person            id\n",
      "count  99999.000000  99999.000000\n",
      "mean       2.093811     94.185932\n",
      "std        0.816237     48.592323\n",
      "min        1.000000      1.000000\n",
      "25%        1.000000     55.000000\n",
      "50%        2.000000     98.000000\n",
      "75%        3.000000    139.000000\n",
      "max        3.000000    166.000000\n"
     ]
    }
   ],
   "source": [
    "# Explore the DataFrame\n",
    "print(kv.head(10)),  # Display the first few rows of the DataFrame\n",
    "print(kv.columns)  # Display the column names\n",
    "print(kv.info())  # Display information about the DataFrame\n",
    "print(kv.describe())  # Display summary statistics for numerical columns"
   ]
  },
  {
   "cell_type": "code",
   "execution_count": 3,
   "id": "a913c1b4",
   "metadata": {},
   "outputs": [
    {
     "name": "stdout",
     "output_type": "stream",
     "text": [
      "form                 0\n",
      "tense_in_paradigm    0\n",
      "person               0\n",
      "number               0\n",
      "preverb              0\n",
      "pre2                 0\n",
      "root                 0\n",
      "sf2                  0\n",
      "caus_sf              0\n",
      "ending               0\n",
      "tsch_class           0\n",
      "morph_type           0\n",
      "sub_id               0\n",
      "id                   0\n",
      "vn                   0\n",
      "dtype: int64\n"
     ]
    }
   ],
   "source": [
    "# Check for missing values in the DataFrame\n",
    "print(kv.isnull().sum())  # Count missing values in each column"
   ]
  },
  {
   "cell_type": "markdown",
   "id": "020e38f6",
   "metadata": {},
   "source": [
    "## Trying to extract third person column \n",
    "\n",
    "This is the first try of transforming the data frame so that the target value becomes the third person. This ultimately failed. Scroll down to find the second try.\n"
   ]
  },
  {
   "cell_type": "code",
   "execution_count": 5,
   "id": "2a31004b",
   "metadata": {},
   "outputs": [],
   "source": [
    "# Change the \"-\" values to NaN\n",
    "kv.replace(\"-\", np.nan, inplace=True)  # Replace \"-\" with NaN"
   ]
  },
  {
   "cell_type": "code",
   "execution_count": null,
   "id": "e16c4d14",
   "metadata": {},
   "outputs": [],
   "source": [
    "kv.head(10)  # Display the first few rows of the DataFrame again\n",
    "# Check for missing values again after replacement"
   ]
  },
  {
   "cell_type": "code",
   "execution_count": null,
   "id": "bf9b9fb3",
   "metadata": {},
   "outputs": [],
   "source": [
    "# Function to add a new column with the third person singular form of the verb\n",
    "def add_third_person_singular(kv):\n",
    "    # Create a new column '3PS' and fill it with the third person singular form of the verb\n",
    "    kv['3PS'] = kv.apply(\n",
    "        lambda row: row['form'] if (row[\"person\"] == 3 and row[\"pre2\"] != \"ჰ\" and row[\"number\"] != \"pl\") else None,\n",
    "        axis=1\n",
    "    )\n",
    "\n",
    "add_third_person_singular(kv)  # Call the function to add the new column\n",
    "# Display the DataFrame with the new column \n",
    "kv.head(10)  # Display the first few rows of the DataFrame again\n",
    "# Check the unique values in the '3PS' column"
   ]
  },
  {
   "cell_type": "code",
   "execution_count": null,
   "id": "b853f598",
   "metadata": {},
   "outputs": [],
   "source": [
    "# Set the 'vn' column to NaN where '3PS' column has non-null values\n",
    "kv.loc[kv['3PS'].notnull(), 'form'] = np.nan\n",
    "kv.head(10)  # Display the first few rows to verify the changes"
   ]
  },
  {
   "cell_type": "code",
   "execution_count": null,
   "id": "9696b790",
   "metadata": {},
   "outputs": [],
   "source": [
    "# Remove leading asterisks from the 'vn' column\n",
    "kv['vn'] = kv['vn'].str.lstrip('*')\n",
    "kv.head(10)  # Display the first few rows to verify the changes"
   ]
  },
  {
   "cell_type": "code",
   "execution_count": null,
   "id": "986fc16f",
   "metadata": {},
   "outputs": [],
   "source": [
    "# Check for missing values in the DataFrame again after all modifications\n",
    "print(kv.isnull().sum())  # Count missing values in each column"
   ]
  },
  {
   "cell_type": "code",
   "execution_count": 11,
   "id": "1062ecda",
   "metadata": {},
   "outputs": [],
   "source": [
    "# Save the modified DataFrame to a new CSV file\n",
    "kv.to_csv(r\"C:\\Users\\Home\\Desktop\\KartuVerbs-main\\data_vn+_modified.csv\", sep=';', index=False)  # Save the DataFrame to a new CSV file"
   ]
  },
  {
   "cell_type": "code",
   "execution_count": null,
   "id": "a1ada6c0",
   "metadata": {},
   "outputs": [],
   "source": [
    "kv_2 = pd.read_csv(r\"C:\\Users\\Home\\Desktop\\KartuVerbs-main\\data_vn-\", sep=';')  # Read the modified CSV file into a new DataFrame\n",
    "kv_2.head(10)  # Display the first few rows of the new DataFrame"
   ]
  },
  {
   "cell_type": "code",
   "execution_count": 13,
   "id": "b6cd4bda",
   "metadata": {},
   "outputs": [],
   "source": [
    "add_third_person_singular(kv_2)  # Call the function to add the new column to the new DataFrame\n",
    "kv_2.loc[kv_2['3PS'].notnull(), 'form'] = np.nan\n",
    "kv_2.head(10)  # Display the first few rows of the new DataFrame again\n",
    "# Save the modified DataFrame to a new CSV file\n",
    "kv_2.to_csv(r\"C:\\Users\\Home\\Desktop\\KartuVerbs-main\\data_vn-_modified.csv\", sep=';', index=False)  # Save the modified DataFrame to a new CSV file\n"
   ]
  },
  {
   "cell_type": "markdown",
   "id": "5cad003b",
   "metadata": {},
   "source": [
    " since the original kartuverbs projects seems to have pre-split the data into train and test set, data_vn- has little relevance for us. I will split the training and test sets myself in the coding of the NN in the georgian_conjugation_NN.ipynb file."
   ]
  },
  {
   "cell_type": "markdown",
   "id": "c22b5e2f",
   "metadata": {},
   "source": [
    "## Second try of extracting adequate data\n",
    "\n",
    "here, our main goal is to extract the form column so that we may have a target value y that is comprised of third person forms."
   ]
  },
  {
   "cell_type": "code",
   "execution_count": 8,
   "id": "d045c46c",
   "metadata": {},
   "outputs": [
    {
     "name": "stdout",
     "output_type": "stream",
     "text": [
      "form                 object\n",
      "tense_in_paradigm    object\n",
      "person                int64\n",
      "number               object\n",
      "preverb              object\n",
      "pre2                 object\n",
      "root                 object\n",
      "sf2                  object\n",
      "caus_sf              object\n",
      "ending               object\n",
      "tsch_class           object\n",
      "morph_type           object\n",
      "sub_id               object\n",
      "id                    int64\n",
      "vn                   object\n",
      "dtype: object\n",
      "282\n",
      "72465\n"
     ]
    }
   ],
   "source": [
    "# Check the data types of each column\n",
    "print(kv.dtypes)  # Display the data types of each column in the DataFrame\n",
    "# Check the sum of unique values in the 'vn' column\n",
    "print(kv['vn'].nunique())  # Display the number of unique values in the 'vn' column\n",
    "# Check the sum of unique values in the 'form' column \n",
    "print(kv['form'].nunique())  # Display the number of unique values in the 'form' column\n"
   ]
  }
 ],
 "metadata": {
  "kernelspec": {
   "display_name": "torchenv",
   "language": "python",
   "name": "python3"
  },
  "language_info": {
   "codemirror_mode": {
    "name": "ipython",
    "version": 3
   },
   "file_extension": ".py",
   "mimetype": "text/x-python",
   "name": "python",
   "nbconvert_exporter": "python",
   "pygments_lexer": "ipython3",
   "version": "3.12.7"
  }
 },
 "nbformat": 4,
 "nbformat_minor": 5
}
